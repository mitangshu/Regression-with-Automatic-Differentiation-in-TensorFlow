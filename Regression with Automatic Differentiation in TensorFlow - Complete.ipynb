{
 "cells": [
  {
   "cell_type": "markdown",
   "metadata": {
    "colab_type": "text",
    "id": "t53jP8uAemXu"
   },
   "source": [
    "# Regression with Automatic Differentiation in TensorFlow"
   ]
  },
  {
   "cell_type": "markdown",
   "metadata": {
    "colab_type": "text",
    "id": "QGjXvUdcemXw"
   },
   "source": [
    "# Task 1: TensorFlow"
   ]
  },
  {
   "cell_type": "code",
   "execution_count": null,
   "metadata": {
    "colab": {
     "base_uri": "https://localhost:8080/",
     "height": 50
    },
    "colab_type": "code",
    "id": "TtDgZK3lemXx",
    "outputId": "77be4d31-1bf3-4aa2-cd75-6de95d71f850"
   },
   "outputs": [],
   "source": [
    "import tensorflow as tf\n",
    "import numpy as np\n",
    "import matplotlib.pyplot as plt\n",
    "%matplotlib inline\n",
    "\n",
    "print('Using TensorFlow version:', tf.__version__)\n",
    "print('Devices available:', tf.config.list_physical_devices())"
   ]
  },
  {
   "cell_type": "markdown",
   "metadata": {
    "colab_type": "text",
    "id": "yeJJgtrVemX1"
   },
   "source": [
    "# Task 2: Constants"
   ]
  },
  {
   "cell_type": "code",
   "execution_count": null,
   "metadata": {
    "colab": {
     "base_uri": "https://localhost:8080/",
     "height": 34
    },
    "colab_type": "code",
    "id": "43yEzEx4emX2",
    "outputId": "a0ee3e76-3194-420b-d7d4-4e758e307ea5"
   },
   "outputs": [],
   "source": [
    "tf.constant([[1, 2, 3]])"
   ]
  },
  {
   "cell_type": "code",
   "execution_count": null,
   "metadata": {
    "colab": {
     "base_uri": "https://localhost:8080/",
     "height": 34
    },
    "colab_type": "code",
    "id": "eqsbdFrgemX5",
    "outputId": "be3a9bd2-4e86-4300-8635-7da28ab3f08f"
   },
   "outputs": [],
   "source": [
    "tf.convert_to_tensor([[1, 2, 3]])"
   ]
  },
  {
   "cell_type": "code",
   "execution_count": null,
   "metadata": {
    "colab": {
     "base_uri": "https://localhost:8080/",
     "height": 34
    },
    "colab_type": "code",
    "id": "_9INFP-UemX9",
    "outputId": "10b6f9c7-af32-4ea2-8411-5434480d29c4"
   },
   "outputs": [],
   "source": [
    "tf.convert_to_tensor([[1, 2, 3]], dtype=tf.float32)"
   ]
  },
  {
   "cell_type": "code",
   "execution_count": null,
   "metadata": {
    "colab": {
     "base_uri": "https://localhost:8080/",
     "height": 34
    },
    "colab_type": "code",
    "id": "znTS24MZemYB",
    "outputId": "67fea087-829c-43e2-876b-c9787bbc5f33"
   },
   "outputs": [],
   "source": [
    "tf.convert_to_tensor([[1, 2, 3]]).numpy()"
   ]
  },
  {
   "cell_type": "markdown",
   "metadata": {
    "colab_type": "text",
    "id": "nJfEQ58nemYE"
   },
   "source": [
    "# Task 3: Variables"
   ]
  },
  {
   "cell_type": "code",
   "execution_count": null,
   "metadata": {
    "colab": {
     "base_uri": "https://localhost:8080/",
     "height": 34
    },
    "colab_type": "code",
    "id": "Zll_KnvQemYF",
    "outputId": "305e1532-de5b-4a33-f696-3ca35b2dadd5"
   },
   "outputs": [],
   "source": [
    "tf.Variable([[1, 2, 3]])"
   ]
  },
  {
   "cell_type": "code",
   "execution_count": null,
   "metadata": {
    "colab": {
     "base_uri": "https://localhost:8080/",
     "height": 50
    },
    "colab_type": "code",
    "id": "VfRgXq_ZemYI",
    "outputId": "190e9e28-90e3-42e6-94fa-ccc2ed16cd25"
   },
   "outputs": [],
   "source": [
    "v = tf.Variable(1)\n",
    "print('Initial value:', v.numpy())\n",
    "v.assign(2)\n",
    "print('New value:', v.numpy())"
   ]
  },
  {
   "cell_type": "code",
   "execution_count": null,
   "metadata": {
    "colab": {
     "base_uri": "https://localhost:8080/",
     "height": 67
    },
    "colab_type": "code",
    "id": "UnVY2yTMemYM",
    "outputId": "3f34b623-66ff-44b1-f9f2-48d47cfcb4b2"
   },
   "outputs": [],
   "source": [
    "c = tf.convert_to_tensor(np.random.randn(2, 3))\n",
    "v = tf.Variable(np.random.randn(3, 1))\n",
    "\n",
    "print(tf.matmul(c, v))"
   ]
  },
  {
   "cell_type": "markdown",
   "metadata": {
    "colab_type": "text",
    "id": "hR11kOzpemYT"
   },
   "source": [
    "# Task 4: Automatic Differentiation\n",
    "\n",
    "Let's take a simple equation as an example:\n",
    "\\begin{equation}\n",
    "y = x^3 ; \\frac{dy}{dx} = 3x^2\n",
    "\\end{equation}"
   ]
  },
  {
   "cell_type": "code",
   "execution_count": null,
   "metadata": {
    "colab": {
     "base_uri": "https://localhost:8080/",
     "height": 34
    },
    "colab_type": "code",
    "id": "k5ajy3b8emYT",
    "outputId": "13ecf1cb-72cb-4245-cb32-bad147bab6dd"
   },
   "outputs": [],
   "source": [
    "x = tf.Variable(3.0)\n",
    "\n",
    "with tf.GradientTape() as tape:\n",
    "    y = x**3\n",
    "\n",
    "dy_dx = tape.gradient(y, x)\n",
    "print('gradient at x={} is {}'.format(x.numpy(), dy_dx.numpy()))"
   ]
  },
  {
   "cell_type": "markdown",
   "metadata": {
    "colab_type": "text",
    "id": "67wEMiJ6emYW"
   },
   "source": [
    "What about higher order gradients?\n",
    "\n",
    "\\begin{equation}\n",
    "y = x^3 ; \\frac{dy}{dx} = 3x^2 ; \\frac{d^2 y}{dx^2} = 6x\n",
    "\\end{equation}"
   ]
  },
  {
   "cell_type": "code",
   "execution_count": null,
   "metadata": {
    "colab": {
     "base_uri": "https://localhost:8080/",
     "height": 34
    },
    "colab_type": "code",
    "id": "4Z_D-hQvemYX",
    "outputId": "da0b327e-9188-4f0d-9b65-1dc1f91c43d4"
   },
   "outputs": [],
   "source": [
    "x = tf.Variable(3.0)\n",
    "\n",
    "with tf.GradientTape() as t1:\n",
    "    with tf.GradientTape() as t2:\n",
    "        y = x**3\n",
    "    dy_dx = t2.gradient(y, x)\n",
    "d2y_dx2 = t1.gradient(dy_dx, x)\n",
    "\n",
    "print('2nd order gradient at x={} is {}'.format(x.numpy(), d2y_dx2.numpy()))"
   ]
  },
  {
   "cell_type": "markdown",
   "metadata": {
    "colab_type": "text",
    "id": "-Ykx-BgPemYa"
   },
   "source": [
    "# Task 5: Watching Tensors"
   ]
  },
  {
   "cell_type": "code",
   "execution_count": null,
   "metadata": {
    "colab": {
     "base_uri": "https://localhost:8080/",
     "height": 34
    },
    "colab_type": "code",
    "id": "AgzqdgOQemYb",
    "outputId": "fdb0d7dd-be89-4728-ddb4-53e8840b77da"
   },
   "outputs": [],
   "source": [
    "x = tf.constant(3.0)\n",
    "\n",
    "with tf.GradientTape() as tape:\n",
    "    y = x**3\n",
    "dy_dx = tape.gradient(y, x)\n",
    "\n",
    "print(dy_dx)"
   ]
  },
  {
   "cell_type": "code",
   "execution_count": null,
   "metadata": {
    "colab": {
     "base_uri": "https://localhost:8080/",
     "height": 34
    },
    "colab_type": "code",
    "id": "8DGTAUq0emYe",
    "outputId": "da63085c-19de-4581-a630-0948c9ac2c3d"
   },
   "outputs": [],
   "source": [
    "x = tf.constant(3.0)\n",
    "\n",
    "with tf.GradientTape() as tape:\n",
    "    tape.watch(x)\n",
    "    y = x**3\n",
    "dy_dx = tape.gradient(y, x)\n",
    "\n",
    "print(dy_dx)"
   ]
  },
  {
   "cell_type": "markdown",
   "metadata": {
    "colab_type": "text",
    "id": "P5NGaCbOemYn"
   },
   "source": [
    "# Task 6: Persistent Tape\n",
    "\n",
    "\\begin{equation}\n",
    "y = x^3 ; z = 2y ; \\frac{dz}{dx} = \\frac{dz}{dy} . \\frac{dy}{dx}\n",
    "\\end{equation}"
   ]
  },
  {
   "cell_type": "code",
   "execution_count": null,
   "metadata": {
    "colab": {
     "base_uri": "https://localhost:8080/",
     "height": 84
    },
    "colab_type": "code",
    "id": "8wwmyGAnemYo",
    "outputId": "a008b9cb-ccdf-4478-edce-74d504a030ad"
   },
   "outputs": [],
   "source": [
    "x = tf.Variable(3.0)\n",
    "\n",
    "with tf.GradientTape(persistent=True) as tape:\n",
    "    y = x**3\n",
    "    z = 2*y\n",
    "\n",
    "dz_dy = tape.gradient(z, y)\n",
    "dy_dx = tape.gradient(y, x)\n",
    "dz_dx = tape.gradient(z, x)\n",
    "\n",
    "del tape\n",
    "\n",
    "print('dz_dy =', dz_dy.numpy())\n",
    "print('dy_dx =', dy_dx.numpy())\n",
    "print('dz_dx =', dz_dx.numpy())\n",
    "\n",
    "print('dz_dx =', dy_dx.numpy() * dz_dy.numpy())"
   ]
  },
  {
   "cell_type": "markdown",
   "metadata": {
    "colab_type": "text",
    "id": "V4Wv58PLemYr"
   },
   "source": [
    "# Task 7: Generating Data for Linear Regression\n",
    "\n",
    "Solve a simple linear regression equation:\n",
    "\n",
    "\\begin{equation}\n",
    "y = wx + b\n",
    "\\end{equation}"
   ]
  },
  {
   "cell_type": "code",
   "execution_count": null,
   "metadata": {
    "colab": {},
    "colab_type": "code",
    "id": "NzZ_gt4uemYs"
   },
   "outputs": [],
   "source": [
    "true_w, true_b = 7.0, 4.0\n",
    "\n",
    "def create_batch(batch_size=64):\n",
    "    x = np.random.randn(batch_size, 1)\n",
    "    y = np.random.randn(batch_size, 1) + true_w * x + true_b\n",
    "    \n",
    "    return x, y"
   ]
  },
  {
   "cell_type": "code",
   "execution_count": null,
   "metadata": {
    "colab": {
     "base_uri": "https://localhost:8080/",
     "height": 265
    },
    "colab_type": "code",
    "id": "LWpHL9aPemYv",
    "outputId": "89de06dd-7e70-40f1-bc5b-f25bf66062f3"
   },
   "outputs": [],
   "source": [
    "x, y = create_batch()\n",
    "\n",
    "plt.plot(x, y, '.');"
   ]
  },
  {
   "cell_type": "markdown",
   "metadata": {
    "colab_type": "text",
    "id": "K-Vvh95gfifF"
   },
   "source": [
    "# Task 8: Linear Regression"
   ]
  },
  {
   "cell_type": "code",
   "execution_count": null,
   "metadata": {
    "colab": {
     "base_uri": "https://localhost:8080/",
     "height": 185
    },
    "colab_type": "code",
    "id": "crsFa20DfgmQ",
    "outputId": "609e2882-7c1f-40fe-877e-d5896b99c2ab"
   },
   "outputs": [],
   "source": [
    "iterations = 100\n",
    "lr = 0.03\n",
    "\n",
    "w = tf.Variable(10.0)\n",
    "b = tf.Variable(1.0)\n",
    "\n",
    "param_history = {'w': [], 'b': []}\n",
    "\n",
    "for i in range(0, iterations):\n",
    "    x_batch, y_batch = create_batch()\n",
    "    x_batch = tf.constant(x_batch, dtype=tf.float32)\n",
    "    y_batch = tf.constant(y_batch, dtype=tf.float32)\n",
    "    with tf.GradientTape(persistent=True) as tape:\n",
    "        y = b + w * x_batch\n",
    "        loss = tf.reduce_mean(tf.square(y - y_batch))\n",
    "    dw = tape.gradient(loss, w)\n",
    "    db = tape.gradient(loss, b)\n",
    "    \n",
    "    del tape\n",
    "    \n",
    "    w.assign_sub(lr * dw)\n",
    "    b.assign_sub(lr * db)\n",
    "    \n",
    "    param_history['w'].append(w.numpy())\n",
    "    param_history['b'].append(b.numpy())\n",
    "    \n",
    "    if i%10==0:\n",
    "        print('At iter {}, w={}, b={}'.format(i, w.numpy(), b.numpy()))"
   ]
  },
  {
   "cell_type": "code",
   "execution_count": null,
   "metadata": {
    "colab": {
     "base_uri": "https://localhost:8080/",
     "height": 388
    },
    "colab_type": "code",
    "id": "n7-ke23kf5rh",
    "outputId": "ea2aa04b-2356-4e28-f915-9d7b74e237b3"
   },
   "outputs": [],
   "source": [
    "plt.figure(figsize=(6, 6))\n",
    "plt.plot(range(iterations), param_history['w'], label='Learned W')\n",
    "plt.plot(range(iterations), param_history['b'], label='Learned b')\n",
    "plt.plot(range(iterations), [true_w]*iterations, label='True W')\n",
    "plt.plot(range(iterations), [true_b]*iterations, label='True b')\n",
    "plt.xlabel('Training Iterations')\n",
    "plt.ylabel('Value')\n",
    "plt.legend()\n",
    "plt.show()"
   ]
  }
 ],
 "metadata": {
  "colab": {
   "name": "Automatic Differentiation with TensorFlow.ipynb",
   "provenance": []
  },
  "kernelspec": {
   "display_name": "Python 3",
   "language": "python",
   "name": "python3"
  },
  "language_info": {
   "codemirror_mode": {
    "name": "ipython",
    "version": 3
   },
   "file_extension": ".py",
   "mimetype": "text/x-python",
   "name": "python",
   "nbconvert_exporter": "python",
   "pygments_lexer": "ipython3",
   "version": "3.6.8"
  }
 },
 "nbformat": 4,
 "nbformat_minor": 1
}
